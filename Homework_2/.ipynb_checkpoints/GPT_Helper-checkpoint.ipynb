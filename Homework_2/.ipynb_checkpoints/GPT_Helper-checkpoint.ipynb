{
 "cells": [
  {
   "cell_type": "markdown",
   "id": "cc9a2912-a672-478d-8522-33eaf18150f0",
   "metadata": {},
   "source": [
    "# Part1"
   ]
  },
  {
   "cell_type": "markdown",
   "id": "05c7f4c1-1be9-418f-90ea-bdcccb96e032",
   "metadata": {},
   "source": [
    "# 1: Import Libraries"
   ]
  },
  {
   "cell_type": "code",
   "execution_count": null,
   "id": "f662adf7-d423-4547-971b-a1be9804b339",
   "metadata": {},
   "outputs": [],
   "source": [
    "import numpy as np\n",
    "import tensorflow as tf\n",
    "from tensorflow.keras import layers, models\n",
    "from tensorflow.keras.datasets import mnist\n",
    "from tensorflow.keras.utils import to_categorical\n"
   ]
  },
  {
   "cell_type": "markdown",
   "id": "4e9b0615-8338-4617-8a82-5de9dd184013",
   "metadata": {},
   "source": [
    "# 2: Load and Preprocess Data"
   ]
  },
  {
   "cell_type": "code",
   "execution_count": null,
   "id": "f4a6b3af-4078-4514-8f1a-b4da05ab7b97",
   "metadata": {},
   "outputs": [],
   "source": [
    "(train_images, train_labels), (test_images, test_labels) = mnist.load_data()\n",
    "\n",
    "# Normalize pixel values to be between 0 and 1\n",
    "train_images, test_images = train_images / 255.0, test_images / 255.0\n",
    "\n",
    "# One-hot encode labels\n",
    "train_labels = to_categorical(train_labels)\n",
    "test_labels = to_categorical(test_labels)\n"
   ]
  },
  {
   "cell_type": "code",
   "execution_count": null,
   "id": "43d86f64-e0a4-43ee-8bce-26701548a73a",
   "metadata": {},
   "outputs": [],
   "source": []
  },
  {
   "cell_type": "markdown",
   "id": "5b4d100e-46d3-405c-bc09-196a118622b5",
   "metadata": {
    "tags": []
   },
   "source": [
    "# 3 : Build the CNN Model"
   ]
  },
  {
   "cell_type": "code",
   "execution_count": null,
   "id": "a66dae43-9815-496d-b3b5-d83045f27c76",
   "metadata": {},
   "outputs": [],
   "source": [
    "model = models.Sequential()\n",
    "\n",
    "# Convolutional layers\n",
    "model.add(layers.Conv2D(32, (3, 3), activation='relu', input_shape=(28, 28, 1)))\n",
    "model.add(layers.MaxPooling2D((2, 2)))\n",
    "model.add(layers.Conv2D(64, (3, 3), activation='relu'))\n",
    "model.add(layers.MaxPooling2D((2, 2)))\n",
    "model.add(layers.Conv2D(128, (3, 3), activation='relu'))\n",
    "\n",
    "# Dense layers\n",
    "model.add(layers.Flatten())\n",
    "model.add(layers.Dense(128, activation='relu'))\n",
    "model.add(layers.Dropout(0.5))  # Optional dropout for regularization\n",
    "model.add(layers.Dense(10, activation='softmax'))  # Output layer with 10 neurons for digits 0-9\n"
   ]
  },
  {
   "cell_type": "markdown",
   "id": "8200d36d-857f-433d-84f1-461655d6633a",
   "metadata": {
    "tags": []
   },
   "source": [
    " # 4: Compile the Model"
   ]
  },
  {
   "cell_type": "code",
   "execution_count": null,
   "id": "2bcad8c3-706c-4efa-ba25-7a924776053c",
   "metadata": {},
   "outputs": [],
   "source": [
    "model.compile(optimizer='adam',\n",
    "              loss='categorical_crossentropy',\n",
    "              metrics=['accuracy'])\n"
   ]
  },
  {
   "cell_type": "code",
   "execution_count": null,
   "id": "78f68d11-9e9a-46d2-b043-4700020d51db",
   "metadata": {},
   "outputs": [],
   "source": [
    "5: Train the Model"
   ]
  },
  {
   "cell_type": "code",
   "execution_count": null,
   "id": "44ac4e98-590b-42f8-b6b5-ef549aad8a23",
   "metadata": {},
   "outputs": [],
   "source": [
    "history = model.fit(train_images.reshape(-1, 28, 28, 1), train_labels, epochs=10, validation_split=0.2)\n"
   ]
  },
  {
   "cell_type": "code",
   "execution_count": null,
   "id": "746e87db-fe62-4630-a075-3dc2fbce074c",
   "metadata": {},
   "outputs": [],
   "source": [
    "6: Evaluate the Model"
   ]
  },
  {
   "cell_type": "code",
   "execution_count": null,
   "id": "3a87d9fe-8134-4806-9c4a-5ca8a12dd175",
   "metadata": {},
   "outputs": [],
   "source": [
    "test_loss, test_acc = model.evaluate(test_images.reshape(-1, 28, 28, 1), test_labels)\n",
    "print(f'Test accuracy: {test_acc}')\n"
   ]
  },
  {
   "cell_type": "code",
   "execution_count": null,
   "id": "36abf812-79f3-4e43-af92-77e77418dc6f",
   "metadata": {},
   "outputs": [],
   "source": [
    "7: Visualize Training History (Optional)"
   ]
  },
  {
   "cell_type": "code",
   "execution_count": null,
   "id": "8ee5a88d-9423-4f16-a93c-d3d67384f1f8",
   "metadata": {},
   "outputs": [],
   "source": [
    "import matplotlib.pyplot as plt\n",
    "\n",
    "plt.plot(history.history['accuracy'], label='accuracy')\n",
    "plt.plot(history.history['val_accuracy'], label = 'val_accuracy')\n",
    "plt.xlabel('Epoch')\n",
    "plt.ylabel('Accuracy')\n",
    "plt.ylim([0, 1])\n",
    "plt.legend(loc='lower right')\n",
    "plt.show()\n"
   ]
  },
  {
   "cell_type": "markdown",
   "id": "ee29bccb-f4f4-42b5-938f-6ceba7a8fff2",
   "metadata": {
    "tags": []
   },
   "source": [
    "# Part2"
   ]
  },
  {
   "cell_type": "markdown",
   "id": "a110194b-2ef9-4956-ac00-9c086070ee64",
   "metadata": {},
   "source": [
    "# 1: Import Libraries"
   ]
  },
  {
   "cell_type": "code",
   "execution_count": null,
   "id": "cc913e1e-930e-42c9-adb7-a0faad8354c7",
   "metadata": {},
   "outputs": [],
   "source": [
    "import numpy as np\n",
    "import tensorflow as tf\n",
    "from tensorflow.keras import models\n",
    "from scipy.optimize import minimize\n",
    "import matplotlib.pyplot as plt\n"
   ]
  },
  {
   "cell_type": "code",
   "execution_count": null,
   "id": "4a4e19ce-e970-49ab-a049-c739625c8a9b",
   "metadata": {},
   "outputs": [],
   "source": [
    "# 2: Load Your Model"
   ]
  },
  {
   "cell_type": "code",
   "execution_count": null,
   "id": "4b78161a-f292-43fb-b9e3-c385b5c38e01",
   "metadata": {},
   "outputs": [],
   "source": [
    "model = tf.keras.models.load_model('your_model_path')\n"
   ]
  },
  {
   "cell_type": "code",
   "execution_count": null,
   "id": "a6484ddc-08a8-4fd9-809c-811561500427",
   "metadata": {},
   "outputs": [],
   "source": [
    "# 3: Define Helper Functions"
   ]
  },
  {
   "cell_type": "code",
   "execution_count": null,
   "id": "5442fcc6-4608-40ec-92d5-729b3fa98a33",
   "metadata": {},
   "outputs": [],
   "source": [
    "def preprocess_image(img):\n",
    "    # Preprocess the image: normalize values to [0, 1] and reshape\n",
    "    img = img.reshape((1, 28, 28, 1)).astype('float32') / 255.0\n",
    "    return img\n",
    "\n",
    "def deprocess_image(img):\n",
    "    # Deprocess the image: reshape and denormalize values\n",
    "    img = img.reshape((28, 28))\n",
    "    img *= 255.0\n",
    "    return np.clip(img, 0, 255).astype(np.uint8)\n",
    "\n",
    "def loss_function(img, target_output):\n",
    "    # Define the loss function as the mean squared error between predicted and target output\n",
    "    predictions = model(img)\n",
    "    return tf.reduce_mean(tf.square(predictions - target_output))\n",
    "\n",
    "def callback(x):\n",
    "    # Callback function to visualize the optimization progress\n",
    "    img = deprocess_image(x)\n",
    "    plt.imshow(img, cmap='gray')\n",
    "    plt.show()\n"
   ]
  },
  {
   "cell_type": "code",
   "execution_count": null,
   "id": "ca5a9f93-b84a-490f-9b0b-7e4a8e76a50f",
   "metadata": {},
   "outputs": [],
   "source": [
    "# 4: Optimize for a Specific Output"
   ]
  },
  {
   "cell_type": "code",
   "execution_count": null,
   "id": "efc6d6ea-f637-473f-b724-bef881836fbf",
   "metadata": {},
   "outputs": [],
   "source": [
    "# Target output for digit 1\n",
    "target_output = np.array([0, 0, 1, 0, 0, 0, 0, 0, 0, 0], dtype=np.float32)\n",
    "\n",
    "# Random initialization\n",
    "initial_image = np.random.rand(28, 28)\n",
    "\n",
    "# Minimize the loss function using L-BFGS-B algorithm\n",
    "result = minimize(\n",
    "    lambda x: loss_function(preprocess_image(x), target_output),\n",
    "    initial_image.flatten(),\n",
    "    method='L-BFGS-B',\n",
    "    bounds=[(0, 1)] * (28 * 28),\n",
    "    options={'maxiter': 200, 'disp': True},\n",
    "    callback=callback\n",
    ")\n",
    "\n",
    "# Retrieve the optimized image\n",
    "optimized_image = deprocess_image(result.x)\n",
    "plt.imshow(optimized_image, cmap='gray')\n",
    "plt.show()\n"
   ]
  },
  {
   "cell_type": "code",
   "execution_count": null,
   "id": "c6ce0485-de45-4820-a73c-bd8c9d7b0181",
   "metadata": {},
   "outputs": [],
   "source": [
    "# 5: Repeat the Optimization with an Actual Image"
   ]
  },
  {
   "cell_type": "code",
   "execution_count": null,
   "id": "8cd65bd3-cd94-42ff-8405-c9900cedaf5e",
   "metadata": {},
   "outputs": [],
   "source": [
    "# Load an actual image of digit 1\n",
    "actual_image = plt.imread('path_to_digit_1_image.png')  # Replace with the path to your image\n",
    "\n",
    "# Add noise to the image as the initial guess\n",
    "initial_image_with_noise = actual_image + np.random.normal(scale=0.1, size=actual_image.shape)\n",
    "\n",
    "# Minimize the loss function with the noisy image as the initial guess\n",
    "result_with_noise = minimize(\n",
    "    lambda x: loss_function(preprocess_image(x), target_output),\n",
    "    initial_image_with_noise.flatten(),\n",
    "    method='L-BFGS-B',\n",
    "    bounds=[(0, 1)] * (28 * 28),\n",
    "    options={'maxiter': 200, 'disp': True},\n",
    "    callback=callback\n",
    ")\n",
    "\n",
    "# Retrieve the optimized image with noise\n",
    "optimized_image_with_noise = deprocess_image(result_with_noise.x)\n",
    "plt.imshow(optimized_image_with_noise, cmap='gray')\n",
    "plt.show()\n"
   ]
  },
  {
   "cell_type": "code",
   "execution_count": null,
   "id": "01f65c21-8032-4ef8-9bc9-032283f53b06",
   "metadata": {},
   "outputs": [],
   "source": [
    " # 6: Repeat for Other Digits or Mixed Outputs"
   ]
  },
  {
   "cell_type": "code",
   "execution_count": null,
   "id": "b2c47808-5bb2-4e6f-bd59-96048a68a871",
   "metadata": {},
   "outputs": [],
   "source": []
  },
  {
   "cell_type": "code",
   "execution_count": null,
   "id": "52ea86a1-3477-4136-bd08-cbe9ae57d2e1",
   "metadata": {},
   "outputs": [],
   "source": []
  }
 ],
 "metadata": {
  "kernelspec": {
   "display_name": "Python 3 (ipykernel)",
   "language": "python",
   "name": "python3"
  },
  "language_info": {
   "codemirror_mode": {
    "name": "ipython",
    "version": 3
   },
   "file_extension": ".py",
   "mimetype": "text/x-python",
   "name": "python",
   "nbconvert_exporter": "python",
   "pygments_lexer": "ipython3",
   "version": "3.11.5"
  }
 },
 "nbformat": 4,
 "nbformat_minor": 5
}
