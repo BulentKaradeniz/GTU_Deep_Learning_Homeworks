{
 "cells": [
  {
   "cell_type": "markdown",
   "id": "6302c9a4-f9b6-4490-8f77-670d4d991c99",
   "metadata": {},
   "source": [
    "# Homework_2"
   ]
  },
  {
   "cell_type": "markdown",
   "id": "2f3ae5e8-fd85-46bb-b164-1d50b11f0493",
   "metadata": {},
   "source": [
    "# Part 1: Digit recognition using CNNs\n",
    "You are asked to train a feed forward network to recognize handwritten digits. Use the MNIST data commonly available on the internet.\n",
    "\n",
    "1.Read your data.\n",
    "2.Construct a CNN-based network that best fits the data with good generalization on the test data.\n",
    "3.Report the training and test performances of your trained final model.\n",
    "\n",
    "You may want to start with the previous homework for this. Do not use one of the existing networks. The complexity of the model should be a bit higher than AlexNet."
   ]
  },
  {
   "cell_type": "code",
   "execution_count": null,
   "id": "737eceeb-0766-4f21-9ea7-a413acc3258b",
   "metadata": {},
   "outputs": [],
   "source": []
  },
  {
   "cell_type": "code",
   "execution_count": null,
   "id": "e0ccfaa5-3f81-4297-81ff-6f1170e7b5e6",
   "metadata": {},
   "outputs": [],
   "source": []
  },
  {
   "cell_type": "code",
   "execution_count": null,
   "id": "0e0562a0-45d2-4227-8920-f20c83c246fd",
   "metadata": {},
   "outputs": [],
   "source": []
  },
  {
   "cell_type": "code",
   "execution_count": null,
   "id": "210f121e-a5e7-4e5c-903e-f600559f7f85",
   "metadata": {},
   "outputs": [],
   "source": []
  },
  {
   "cell_type": "code",
   "execution_count": null,
   "id": "6ac14eb9-2b4d-46c0-bfe1-b7f96e5e5661",
   "metadata": {},
   "outputs": [],
   "source": []
  },
  {
   "cell_type": "code",
   "execution_count": null,
   "id": "810ddf7d-1242-45bf-80e2-e56cf2aaff0b",
   "metadata": {},
   "outputs": [],
   "source": []
  },
  {
   "cell_type": "code",
   "execution_count": null,
   "id": "a82f57f2-ef3e-4afd-be11-fe8be342d7f7",
   "metadata": {},
   "outputs": [],
   "source": []
  },
  {
   "cell_type": "code",
   "execution_count": null,
   "id": "9ccfc54d-e7c8-45ee-a11c-073a72a170c0",
   "metadata": {},
   "outputs": [],
   "source": []
  }
 ],
 "metadata": {
  "kernelspec": {
   "display_name": "Python 3 (ipykernel)",
   "language": "python",
   "name": "python3"
  },
  "language_info": {
   "codemirror_mode": {
    "name": "ipython",
    "version": 3
   },
   "file_extension": ".py",
   "mimetype": "text/x-python",
   "name": "python",
   "nbconvert_exporter": "python",
   "pygments_lexer": "ipython3",
   "version": "3.11.5"
  }
 },
 "nbformat": 4,
 "nbformat_minor": 5
}
