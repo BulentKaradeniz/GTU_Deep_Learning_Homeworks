{
 "cells": [
  {
   "cell_type": "markdown",
   "id": "6302c9a4-f9b6-4490-8f77-670d4d991c99",
   "metadata": {},
   "source": [
    "# Homework_2"
   ]
  },
  {
   "cell_type": "markdown",
   "id": "2f3ae5e8-fd85-46bb-b164-1d50b11f0493",
   "metadata": {},
   "source": [
    "# Part 1: Digit recognition using CNNs\n",
    "You are asked to train a feed forward network to recognize handwritten digits. Use the MNIST data commonly available on the internet.\n",
    "\n",
    "1.Read your data.\n",
    "2.Construct a CNN-based network that best fits the data with good generalization on the test data.\n",
    "3.Report the training and test performances of your trained final model.\n",
    "\n",
    "You may want to start with the previous homework for this. Do not use one of the existing networks. The complexity of the model should be a bit higher than AlexNet."
   ]
  },
  {
   "cell_type": "markdown",
   "id": "8c73f257-29eb-436e-aa61-e4baa29590e5",
   "metadata": {},
   "source": [
    "# 1. Importing Libraries and the Dataset"
   ]
  },
  {
   "cell_type": "code",
   "execution_count": 10,
   "id": "737eceeb-0766-4f21-9ea7-a413acc3258b",
   "metadata": {},
   "outputs": [],
   "source": [
    "# Import Libraries\n",
    "import numpy as np\n",
    "import random\n",
    "import keras\n",
    "from keras.datasets import mnist\n",
    "from keras.models import Sequential\n",
    "from keras.layers import Dense, Dropout, Flatten\n",
    "from keras.layers import Conv2D, MaxPooling2D\n",
    "from keras import backend as K"
   ]
  },
  {
   "cell_type": "code",
   "execution_count": 11,
   "id": "6ac14eb9-2b4d-46c0-bfe1-b7f96e5e5661",
   "metadata": {},
   "outputs": [],
   "source": [
    "# load the dataset into train and test sets\n",
    "(x_train, y_train), (x_test, y_test) = mnist.load_data()"
   ]
  },
  {
   "cell_type": "code",
   "execution_count": 12,
   "id": "810ddf7d-1242-45bf-80e2-e56cf2aaff0b",
   "metadata": {},
   "outputs": [
    {
     "name": "stdout",
     "output_type": "stream",
     "text": [
      "train data\n",
      "(60000, 28, 28)\n",
      "(60000,)\n",
      "\n",
      " test data\n",
      "(10000, 28, 28)\n",
      "(10000,)\n"
     ]
    }
   ],
   "source": [
    "print(\"train data\")\n",
    "print(x_train.shape)\n",
    "print(y_train.shape)\n",
    "print(\"\\n test data\")\n",
    "print(x_test.shape)\n",
    "print(y_test.shape)"
   ]
  },
  {
   "cell_type": "markdown",
   "id": "9a6846a9-1bb8-4005-acb7-5402012ba2dd",
   "metadata": {},
   "source": [
    "# 2. Data Preparation"
   ]
  },
  {
   "cell_type": "code",
   "execution_count": 13,
   "id": "9ccfc54d-e7c8-45ee-a11c-073a72a170c0",
   "metadata": {},
   "outputs": [],
   "source": [
    "# specify input dimensions of each image\n",
    "\n",
    "input_shape = (28, 28, 1)\n",
    "\n",
    "# batch size, number of classes, epochs\n",
    "batch_size = 128\n",
    "num_classes = 10\n",
    "epochs = 20"
   ]
  },
  {
   "cell_type": "code",
   "execution_count": 14,
   "id": "0b7d0185-6417-4efb-93cc-a965988b4b5e",
   "metadata": {
    "tags": []
   },
   "outputs": [
    {
     "name": "stdout",
     "output_type": "stream",
     "text": [
      "(60000, 28, 28, 1)\n",
      "(10000, 28, 28, 1)\n"
     ]
    }
   ],
   "source": [
    "# reshape x_train and x_test\n",
    "x_train = x_train.reshape(x_train.shape[0], 28, 28, 1)\n",
    "x_test = x_test.reshape(x_test.shape[0], 28, 28, 1)\n",
    "print(x_train.shape)\n",
    "print(x_test.shape)"
   ]
  },
  {
   "cell_type": "code",
   "execution_count": 15,
   "id": "84990fa3-773d-4e7c-842b-24064311fee2",
   "metadata": {
    "tags": []
   },
   "outputs": [
    {
     "name": "stdout",
     "output_type": "stream",
     "text": [
      "(60000, 10)\n"
     ]
    }
   ],
   "source": [
    "# convert class labels (from digits) to one-hot encoded vectors\n",
    "y_train = keras.utils.to_categorical(y_train, num_classes)\n",
    "y_test = keras.utils.to_categorical(y_test, num_classes)\n",
    "print(y_train.shape)"
   ]
  },
  {
   "cell_type": "code",
   "execution_count": null,
   "id": "cc2e11fb-2eb2-43ac-9aca-fa469567beca",
   "metadata": {},
   "outputs": [],
   "source": []
  },
  {
   "cell_type": "code",
   "execution_count": null,
   "id": "8e76a092-f093-45df-94d6-6f850894c874",
   "metadata": {},
   "outputs": [],
   "source": []
  },
  {
   "cell_type": "code",
   "execution_count": null,
   "id": "02d7e019-8781-465c-a62e-93b0b70f8dbd",
   "metadata": {},
   "outputs": [],
   "source": []
  },
  {
   "cell_type": "code",
   "execution_count": null,
   "id": "dfe3423d-ec31-44dd-95c4-7d29f417f539",
   "metadata": {},
   "outputs": [],
   "source": []
  },
  {
   "cell_type": "code",
   "execution_count": null,
   "id": "e6d4622d-47a5-492e-9d46-73bded0de001",
   "metadata": {},
   "outputs": [],
   "source": []
  },
  {
   "cell_type": "code",
   "execution_count": null,
   "id": "df1d3727-1af1-4c88-85a2-66fd9c3659fa",
   "metadata": {},
   "outputs": [],
   "source": []
  },
  {
   "cell_type": "code",
   "execution_count": null,
   "id": "43693664-a99e-422f-a142-674d8d21e85c",
   "metadata": {},
   "outputs": [],
   "source": []
  },
  {
   "cell_type": "code",
   "execution_count": null,
   "id": "efae07a9-85aa-4f6c-adc7-78428fad8d66",
   "metadata": {},
   "outputs": [],
   "source": []
  }
 ],
 "metadata": {
  "kernelspec": {
   "display_name": "Python 3 (ipykernel)",
   "language": "python",
   "name": "python3"
  },
  "language_info": {
   "codemirror_mode": {
    "name": "ipython",
    "version": 3
   },
   "file_extension": ".py",
   "mimetype": "text/x-python",
   "name": "python",
   "nbconvert_exporter": "python",
   "pygments_lexer": "ipython3",
   "version": "3.11.5"
  }
 },
 "nbformat": 4,
 "nbformat_minor": 5
}
